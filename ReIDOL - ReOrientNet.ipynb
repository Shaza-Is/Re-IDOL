{
 "cells": [
  {
   "cell_type": "code",
   "execution_count": 1,
   "id": "203a9682",
   "metadata": {},
   "outputs": [
    {
     "name": "stdout",
     "output_type": "stream",
     "text": [
      "Using TensorFlow version 2.6.0\n"
     ]
    }
   ],
   "source": [
    "import os\n",
    "import numpy as np\n",
    "import pandas as pd\n",
    "import matplotlib.pyplot as plt\n",
    "import tensorflow as tf\n",
    "import tensorflow.experimental.numpy as tnp\n",
    "import glob\n",
    "\n",
    "print(\"Using TensorFlow version %s\" % tf.__version__)"
   ]
  },
  {
   "cell_type": "code",
   "execution_count": 2,
   "id": "8688882a",
   "metadata": {},
   "outputs": [],
   "source": [
    "tnp.experimental_enable_numpy_behavior()"
   ]
  },
  {
   "cell_type": "code",
   "execution_count": 3,
   "id": "8bbf8e7c",
   "metadata": {},
   "outputs": [
    {
     "data": {
      "text/plain": [
       "True"
      ]
     },
     "execution_count": 3,
     "metadata": {},
     "output_type": "execute_result"
    }
   ],
   "source": [
    "tf.test.is_built_with_cuda()"
   ]
  },
  {
   "cell_type": "code",
   "execution_count": 4,
   "id": "3425d57f",
   "metadata": {},
   "outputs": [
    {
     "name": "stderr",
     "output_type": "stream",
     "text": [
      "2021-11-25 20:40:04.818475: I tensorflow/stream_executor/cuda/cuda_gpu_executor.cc:937] successful NUMA node read from SysFS had negative value (-1), but there must be at least one NUMA node, so returning NUMA node zero\n",
      "2021-11-25 20:40:04.822254: I tensorflow/stream_executor/cuda/cuda_gpu_executor.cc:937] successful NUMA node read from SysFS had negative value (-1), but there must be at least one NUMA node, so returning NUMA node zero\n",
      "2021-11-25 20:40:04.822399: I tensorflow/stream_executor/cuda/cuda_gpu_executor.cc:937] successful NUMA node read from SysFS had negative value (-1), but there must be at least one NUMA node, so returning NUMA node zero\n"
     ]
    },
    {
     "data": {
      "text/plain": [
       "[PhysicalDevice(name='/physical_device:GPU:0', device_type='GPU')]"
      ]
     },
     "execution_count": 4,
     "metadata": {},
     "output_type": "execute_result"
    }
   ],
   "source": [
    "tf.config.list_physical_devices('GPU')"
   ]
  },
  {
   "cell_type": "code",
   "execution_count": 5,
   "id": "3882afa5",
   "metadata": {},
   "outputs": [],
   "source": [
    "from tensorflow.keras.layers import LSTM,Concatenate, Dense, Flatten ,Activation ,Input , BatchNormalization,Dropout , Bidirectional\n",
    "from tensorflow.keras.models import Sequential, Model"
   ]
  },
  {
   "cell_type": "code",
   "execution_count": null,
   "id": "cfc10f9e",
   "metadata": {},
   "outputs": [],
   "source": []
  },
  {
   "cell_type": "code",
   "execution_count": 6,
   "id": "b3cdb559",
   "metadata": {},
   "outputs": [],
   "source": [
    "building1_filenames = set(glob.glob(\"datasets/building1/*/*.feather\"))\n",
    "building2_filenames = set(glob.glob(\"datasets/building2/*/*.feather\"))\n",
    "building3_filenames = set(glob.glob(\"datasets/building3/*/*.feather\"))\n",
    "training_filenames = set(glob.glob(\"datasets/building1/known/*.feather\"))\n",
    "#test1_filenames = building1_filenames - training_filenames"
   ]
  },
  {
   "cell_type": "code",
   "execution_count": 7,
   "id": "10cd02b3",
   "metadata": {},
   "outputs": [],
   "source": [
    "import random\n",
    "seed=10\n",
    "random.seed(seed)\n",
    "np.random.seed(seed)"
   ]
  },
  {
   "cell_type": "code",
   "execution_count": 8,
   "id": "c0fd1c07",
   "metadata": {},
   "outputs": [],
   "source": [
    "# generate training samples\n",
    "\n",
    "dfs = []\n",
    "for file in training_filenames:\n",
    "    df = pd.read_feather(file)\n",
    "    dfs.append(df)\n",
    "\n",
    "\n",
    "training_data = pd.concat(dfs, ignore_index=True)\n",
    "\n",
    "#training_data.head()\n",
    "\n",
    "orientation_acc = training_data[[\"iphoneAccX\", \"iphoneAccY\", \"iphoneAccZ\"]]\n",
    "orientation_gyro = training_data[[ \"iphoneGyroX\", \"iphoneGyroY\", \"iphoneGyroZ\"]]\n",
    "orientation_mag = training_data[[ \"iphoneMagX\", \"iphoneMagY\", \"iphoneMagZ\"]] \n",
    "\n",
    "#orientation_data.head()"
   ]
  },
  {
   "cell_type": "code",
   "execution_count": 9,
   "id": "00d825b2",
   "metadata": {},
   "outputs": [
    {
     "data": {
      "text/html": [
       "<div>\n",
       "<style scoped>\n",
       "    .dataframe tbody tr th:only-of-type {\n",
       "        vertical-align: middle;\n",
       "    }\n",
       "\n",
       "    .dataframe tbody tr th {\n",
       "        vertical-align: top;\n",
       "    }\n",
       "\n",
       "    .dataframe thead th {\n",
       "        text-align: right;\n",
       "    }\n",
       "</style>\n",
       "<table border=\"1\" class=\"dataframe\">\n",
       "  <thead>\n",
       "    <tr style=\"text-align: right;\">\n",
       "      <th></th>\n",
       "      <th>orientX</th>\n",
       "      <th>orientY</th>\n",
       "      <th>orientZ</th>\n",
       "      <th>orientW</th>\n",
       "    </tr>\n",
       "  </thead>\n",
       "  <tbody>\n",
       "    <tr>\n",
       "      <th>0</th>\n",
       "      <td>-0.004727</td>\n",
       "      <td>0.001564</td>\n",
       "      <td>-0.000030</td>\n",
       "      <td>0.999988</td>\n",
       "    </tr>\n",
       "    <tr>\n",
       "      <th>1</th>\n",
       "      <td>-0.004664</td>\n",
       "      <td>0.001573</td>\n",
       "      <td>-0.000002</td>\n",
       "      <td>0.999988</td>\n",
       "    </tr>\n",
       "    <tr>\n",
       "      <th>2</th>\n",
       "      <td>-0.004671</td>\n",
       "      <td>0.001567</td>\n",
       "      <td>0.000022</td>\n",
       "      <td>0.999988</td>\n",
       "    </tr>\n",
       "    <tr>\n",
       "      <th>3</th>\n",
       "      <td>-0.004677</td>\n",
       "      <td>0.001563</td>\n",
       "      <td>-0.000050</td>\n",
       "      <td>0.999988</td>\n",
       "    </tr>\n",
       "    <tr>\n",
       "      <th>4</th>\n",
       "      <td>-0.004675</td>\n",
       "      <td>0.001515</td>\n",
       "      <td>-0.000039</td>\n",
       "      <td>0.999988</td>\n",
       "    </tr>\n",
       "  </tbody>\n",
       "</table>\n",
       "</div>"
      ],
      "text/plain": [
       "    orientX   orientY   orientZ   orientW\n",
       "0 -0.004727  0.001564 -0.000030  0.999988\n",
       "1 -0.004664  0.001573 -0.000002  0.999988\n",
       "2 -0.004671  0.001567  0.000022  0.999988\n",
       "3 -0.004677  0.001563 -0.000050  0.999988\n",
       "4 -0.004675  0.001515 -0.000039  0.999988"
      ]
     },
     "execution_count": 9,
     "metadata": {},
     "output_type": "execute_result"
    }
   ],
   "source": [
    "orientation_target = training_data[[\"orientX\", \"orientY\", \"orientZ\", \"orientW\"]] \n",
    "orientation_target.head()"
   ]
  },
  {
   "cell_type": "code",
   "execution_count": 10,
   "id": "84c516ce",
   "metadata": {},
   "outputs": [],
   "source": [
    "acc_np = orientation_acc.to_numpy()\n",
    "gyro_np = orientation_gyro.to_numpy()\n",
    "mag_np = orientation_mag.to_numpy()"
   ]
  },
  {
   "cell_type": "code",
   "execution_count": 11,
   "id": "94417eb9",
   "metadata": {},
   "outputs": [
    {
     "data": {
      "text/plain": [
       "849119"
      ]
     },
     "execution_count": 11,
     "metadata": {},
     "output_type": "execute_result"
    }
   ],
   "source": [
    "orient_np = orientation_target.to_numpy()\n",
    "len(orient_np)"
   ]
  },
  {
   "cell_type": "code",
   "execution_count": 12,
   "id": "40d09550",
   "metadata": {},
   "outputs": [],
   "source": [
    "def generate_training_samples(acc_, gyro_, mag_, orient_, batch_size = 64):\n",
    "    while True:\n",
    "        xa_batch = np.zeros((batch_size,100,3))\n",
    "        xg_batch = np.zeros((batch_size,100,3))\n",
    "        xm_batch = np.zeros((batch_size,100,3))\n",
    "        y_theta_batch = np.zeros((batch_size,4))\n",
    "        y_sigma_batch = np.finfo(np.float32).eps* np.ones((batch_size,6)) ## To remove\n",
    "        y_batch = np.concatenate((y_theta_batch, y_sigma_batch), axis=1)\n",
    "        #print(y_batch.shape)\n",
    "        \n",
    "        j = 0\n",
    "        for i in range(len(orient_)):\n",
    "            xa_batch[j,:,:] = acc_[i, :]\n",
    "            xg_batch[j,:,:] = gyro_[i,:]\n",
    "            xm_batch[j,:,:] = mag_[i,:]\n",
    "            y_theta_batch[j,:4] = orient_[i,:]\n",
    "            j += 1\n",
    "            if j >= batch_size:\n",
    "                j = 0              \n",
    "                yield([xa_batch,xg_batch, xm_batch],[y_batch])\n",
    "            #---------------------------------------------------------------------------------------"
   ]
  },
  {
   "cell_type": "code",
   "execution_count": 13,
   "id": "35f258b4",
   "metadata": {},
   "outputs": [],
   "source": [
    "checkpoints_path = os.path.join(os.getcwd(),'datasets/CheckPoints_Model_OrientNet')\n",
    "\n",
    "if not os.path.exists(checkpoints_path):\n",
    "  os.mkdir(checkpoints_path)\n",
    "check_point_template_path = os.path.join(checkpoints_path,'ckpt_epoch_{epoch:03d}_loss_{loss:.4f}_.hdf5') # vloss_{val_loss:.4f}\n",
    "check_point_callback = tf.keras.callbacks.ModelCheckpoint(check_point_template_path)\n",
    "\n",
    "import re #regular expresion\n",
    "def get_all_checkpoints(checkpoints_path,checkpoint_main_name = 'ckpt'):\n",
    "  all_checkpoints = [j for j in os.listdir(checkpoints_path) if j.startswith(checkpoint_main_name)]\n",
    "  return all_checkpoints\n",
    "\n",
    "def check_if_available_checkpoints(checkpoints_path,checkpoint_main_name = 'ckpt'):\n",
    "  all_checkpoints = get_all_checkpoints(checkpoints_path,checkpoint_main_name)\n",
    "  if(len(all_checkpoints) > 0):#checkpoints avilable\n",
    "    all_checkpoints.sort(reverse=True)    \n",
    "    latest_check_point = all_checkpoints[0]\n",
    "    initial_epoch = int(re.search('epoch_(.*?)_', latest_check_point).group(1))    \n",
    "  else:\n",
    "    latest_check_point = None\n",
    "    initial_epoch = 0\n",
    "    \n",
    "  return initial_epoch , latest_check_point\n",
    "\n",
    "\n",
    "# Check if there are any check points initially\n",
    "initial_epoch , latest_check_point = check_if_available_checkpoints(checkpoints_path)"
   ]
  },
  {
   "cell_type": "code",
   "execution_count": 14,
   "id": "b4d1f178",
   "metadata": {},
   "outputs": [],
   "source": [
    "orient_learning_rate = 0.0005 # convergence  within  20  epochs \\ref{IDOL}"
   ]
  },
  {
   "cell_type": "code",
   "execution_count": 15,
   "id": "6fc6085c",
   "metadata": {},
   "outputs": [],
   "source": [
    "\n",
    "def quaterinion_inv(q):\n",
    "    return (1/(tnp.sum(q**2))) * tnp.array([-1*q[0], -1*q[1], -1*q[2], q[3]])\n",
    "\n",
    "def log_bar(q, batch_size = 64):\n",
    "    #print(tf.shape(q[3]))\n",
    "    log_batch = tnp.zeros((batch_size,3))\n",
    "    log_list = tf.unstack(log_batch)\n",
    "\n",
    "    for i in range(batch_size):\n",
    "        if q[3][i] == 0:\n",
    "            log_list[i] =tnp.array([0.0, 0.0, 0.0], dtype=tnp.float32)\n",
    "            #print(tf.shape(log_batch[i]))\n",
    "        else:\n",
    "            v = tf.slice(q,\n",
    "                   begin=[i,0],\n",
    "                   size=[3,1])\n",
    "            log_list[i] = tnp.arctan2(tnp.sum(tnp.square(v)), q[3][i])/tnp.sum(tnp.square(v)) * v\n",
    "    return tf.stack(log_list)\n",
    "\n",
    "\n",
    "def quaternion_multiply(quaternion1, quaternion0):\n",
    "    #w0, x0, y0, z0 = quaternion0 # ERROR with TF\n",
    "    #w1, x1, y1, z1 = quaternion1\n",
    "    w0 = quaternion0[3]\n",
    "    x0 = quaternion0[0]\n",
    "    y0 = quaternion0[1]\n",
    "    z0 = quaternion0[2]\n",
    "    w1 = quaternion1[3]\n",
    "    x1 = quaternion1[0]\n",
    "    y1 = quaternion1[1]\n",
    "    z1 = quaternion1[2]\n",
    "    return tnp.array([-x1 * x0 - y1 * y0 - z1 * z0 + w1 * w0,\n",
    "                     x1 * w0 + y1 * z0 - z1 * y0 + w1 * x0,\n",
    "                     -x1 * z0 + y1 * w0 + z1 * x0 + w1 * y0,\n",
    "                     x1 * y0 - y1 * x0 + z1 * w0 + w1 * z0])\n",
    "\n",
    "def boximinus(q1, q2):\n",
    "    return 2 * log_bar(quaternion_multiply(quaterinion_inv(q2), q1))"
   ]
  },
  {
   "cell_type": "code",
   "execution_count": 16,
   "id": "6ea8546c",
   "metadata": {},
   "outputs": [],
   "source": [
    "# Loss Function\n",
    "class OreintLoss(tf.keras.losses.Loss):\n",
    "  def call(self, y_true, y_pred):\n",
    "    # custom loss L_orient = 0.5*(q [-] \\hat{q})^T *Sig^{-1}* \n",
    "    q = tf.slice(y_true,\n",
    "               begin=[0,0],\n",
    "               size=[4,64])                     ##y_true[0:4][:]\n",
    "    #print(tf.shape(q))\n",
    "\n",
    "    q_est = tf.slice(y_pred,\n",
    "               begin=[0,0],\n",
    "               size=[4,64])   #########y_pred[0:4][:]\n",
    "\n",
    "    delta = boximinus(q, q_est)\n",
    "    print(tf.shape(delta))\n",
    "\n",
    "    sig = tnp.eye(3)\n",
    "\n",
    "    return tf.convert_to_tensor(tnp.matmul(tnp.matmul(tnp.transpose(delta), sig), delta))\n",
    "\n",
    "class MyLossP(tf.keras.losses.Loss):\n",
    "  def call(self, y_true, y_pred):\n",
    "    # y_pred = tf.convert_to_tensor_v2(y_pred)\n",
    "    # y_true = tf.cast(y_true, y_pred.dtype)\n",
    "    return tf.sqrt(tf.reduce_mean((y_pred - y_true)**2, axis=-1))\n",
    "\n",
    "\n",
    "\n"
   ]
  },
  {
   "cell_type": "code",
   "execution_count": 17,
   "id": "6ac8a3e1",
   "metadata": {},
   "outputs": [],
   "source": [
    "class OreintNet():\n",
    "    def build_model(self):\n",
    "        # Building Network\n",
    "        #1. Define inputs\n",
    "        Acc_input = Input(shape=(100,3), batch_size=64 , name = 'Acc_input')    \n",
    "        Gyro_input = Input(shape=(100,3),batch_size=64   , name = 'Gyro_input')\n",
    "        Mag_input = Input(shape=(100,3), batch_size=64   , name = 'Mag_input')\n",
    "        \n",
    "        MergedLayer = Concatenate()([Acc_input , Gyro_input, Mag_input])\n",
    "        #\n",
    "        ##MergedLayer = Input(shape=(9) , name = 'imu_input')\n",
    "        #2. LSTM\n",
    "        LSTM1 = (LSTM(100, return_sequences=True))(MergedLayer) # , return_sequences=True\n",
    "        LSTM2 = (LSTM(100, return_sequences=False))(LSTM1)\n",
    "        #print(\"Output shape of the LSTM layer's output : \", LSTM2.shape)\n",
    "        \n",
    "        #3. Fully-Connected (Sigma)\n",
    "        Dense1 = Dense(units=100, input_shape=(64,100), activation='tanh')(LSTM2)\n",
    "        Dense2 = Dense(units=32, activation='tanh')(Dense1)\n",
    "        theta_output = Dense(units=4, name='theta_out')(Dense2) # Sigma Outputs\n",
    "        \n",
    "        #4. Fully-Connected (Theta)\n",
    "        Dense3 = Dense(units=100, input_shape=(64,100), activation='tanh')(LSTM2) # input_shape=(\n",
    "        Dense4 = Dense(units=32, activation='tanh')(Dense3)\n",
    "        sigma_output = Dense(units=6, name='sig_out')(Dense4) # Theta Outputs  activation='linear'\n",
    "\n",
    "\n",
    "        output = Concatenate()([theta_output, sigma_output])\n",
    "        #5. Define and compile The model\n",
    "        Network = Model([Acc_input,Gyro_input, Mag_input],  [output])  #  [Acc_input,Gyro_input, Mag_input]\n",
    "        Network.compile(loss=MyLossP(), optimizer=tf.keras.optimizers.Adam(learning_rate=orient_learning_rate) ,metrics=['mape']) #loss=OreintLoss()\n",
    "        return Network\n",
    "        "
   ]
  },
  {
   "cell_type": "code",
   "execution_count": 18,
   "id": "ecb73550",
   "metadata": {},
   "outputs": [],
   "source": [
    "#class OreintNet(Model):\n",
    "    "
   ]
  },
  {
   "cell_type": "code",
   "execution_count": 19,
   "id": "76017c56",
   "metadata": {},
   "outputs": [
    {
     "name": "stdout",
     "output_type": "stream",
     "text": [
      "start from scratch : epochs =  20\n"
     ]
    },
    {
     "name": "stderr",
     "output_type": "stream",
     "text": [
      "2021-11-25 20:40:05.607664: I tensorflow/core/platform/cpu_feature_guard.cc:142] This TensorFlow binary is optimized with oneAPI Deep Neural Network Library (oneDNN) to use the following CPU instructions in performance-critical operations:  AVX2 FMA\n",
      "To enable them in other operations, rebuild TensorFlow with the appropriate compiler flags.\n",
      "2021-11-25 20:40:05.608237: I tensorflow/stream_executor/cuda/cuda_gpu_executor.cc:937] successful NUMA node read from SysFS had negative value (-1), but there must be at least one NUMA node, so returning NUMA node zero\n",
      "2021-11-25 20:40:05.608447: I tensorflow/stream_executor/cuda/cuda_gpu_executor.cc:937] successful NUMA node read from SysFS had negative value (-1), but there must be at least one NUMA node, so returning NUMA node zero\n",
      "2021-11-25 20:40:05.608590: I tensorflow/stream_executor/cuda/cuda_gpu_executor.cc:937] successful NUMA node read from SysFS had negative value (-1), but there must be at least one NUMA node, so returning NUMA node zero\n",
      "2021-11-25 20:40:05.967102: I tensorflow/stream_executor/cuda/cuda_gpu_executor.cc:937] successful NUMA node read from SysFS had negative value (-1), but there must be at least one NUMA node, so returning NUMA node zero\n",
      "2021-11-25 20:40:05.967267: I tensorflow/stream_executor/cuda/cuda_gpu_executor.cc:937] successful NUMA node read from SysFS had negative value (-1), but there must be at least one NUMA node, so returning NUMA node zero\n",
      "2021-11-25 20:40:05.967396: I tensorflow/stream_executor/cuda/cuda_gpu_executor.cc:937] successful NUMA node read from SysFS had negative value (-1), but there must be at least one NUMA node, so returning NUMA node zero\n",
      "2021-11-25 20:40:05.967512: I tensorflow/core/common_runtime/gpu/gpu_device.cc:1510] Created device /job:localhost/replica:0/task:0/device:GPU:0 with 4297 MB memory:  -> device: 0, name: NVIDIA GeForce RTX 2060, pci bus id: 0000:01:00.0, compute capability: 7.5\n"
     ]
    }
   ],
   "source": [
    "network_builder = OreintNet()\n",
    "Nepochs = 20\n",
    "if initial_epoch > 0:\n",
    "  print('continue after epoch' , initial_epoch , ' - checkpoint: ',latest_check_point,' epochs = ',Nepochs)\n",
    "  NavNet = tf.keras.models.load_model(os.path.join(checkpoints_path,latest_check_point),compile=False)\n",
    "  NavNet.compile(loss=MyLossP(), optimizer=tf.keras.optimizers.Adam(learning_rate=orient_learning_rate) ,metrics=['mape'])\n",
    "else:\n",
    "  print('start from scratch : epochs = ',Nepochs)\n",
    "  orientation_network = network_builder.build_model()"
   ]
  },
  {
   "cell_type": "code",
   "execution_count": 20,
   "id": "f94fb091",
   "metadata": {},
   "outputs": [
    {
     "name": "stdout",
     "output_type": "stream",
     "text": [
      "Model: \"model\"\n",
      "__________________________________________________________________________________________________\n",
      "Layer (type)                    Output Shape         Param #     Connected to                     \n",
      "==================================================================================================\n",
      "Acc_input (InputLayer)          [(64, 100, 3)]       0                                            \n",
      "__________________________________________________________________________________________________\n",
      "Gyro_input (InputLayer)         [(64, 100, 3)]       0                                            \n",
      "__________________________________________________________________________________________________\n",
      "Mag_input (InputLayer)          [(64, 100, 3)]       0                                            \n",
      "__________________________________________________________________________________________________\n",
      "concatenate (Concatenate)       (64, 100, 9)         0           Acc_input[0][0]                  \n",
      "                                                                 Gyro_input[0][0]                 \n",
      "                                                                 Mag_input[0][0]                  \n",
      "__________________________________________________________________________________________________\n",
      "lstm (LSTM)                     (64, 100, 100)       44000       concatenate[0][0]                \n",
      "__________________________________________________________________________________________________\n",
      "lstm_1 (LSTM)                   (64, 100)            80400       lstm[0][0]                       \n",
      "__________________________________________________________________________________________________\n",
      "dense (Dense)                   (64, 100)            10100       lstm_1[0][0]                     \n",
      "__________________________________________________________________________________________________\n",
      "dense_2 (Dense)                 (64, 100)            10100       lstm_1[0][0]                     \n",
      "__________________________________________________________________________________________________\n",
      "dense_1 (Dense)                 (64, 32)             3232        dense[0][0]                      \n",
      "__________________________________________________________________________________________________\n",
      "dense_3 (Dense)                 (64, 32)             3232        dense_2[0][0]                    \n",
      "__________________________________________________________________________________________________\n",
      "theta_out (Dense)               (64, 4)              132         dense_1[0][0]                    \n",
      "__________________________________________________________________________________________________\n",
      "sig_out (Dense)                 (64, 6)              198         dense_3[0][0]                    \n",
      "__________________________________________________________________________________________________\n",
      "concatenate_1 (Concatenate)     (64, 10)             0           theta_out[0][0]                  \n",
      "                                                                 sig_out[0][0]                    \n",
      "==================================================================================================\n",
      "Total params: 151,394\n",
      "Trainable params: 151,394\n",
      "Non-trainable params: 0\n",
      "__________________________________________________________________________________________________\n"
     ]
    }
   ],
   "source": [
    "orientation_network.summary()"
   ]
  },
  {
   "cell_type": "code",
   "execution_count": 21,
   "id": "7b96adcc",
   "metadata": {},
   "outputs": [
    {
     "name": "stdout",
     "output_type": "stream",
     "text": [
      "Epoch 1/20\n"
     ]
    },
    {
     "name": "stderr",
     "output_type": "stream",
     "text": [
      "2021-11-25 20:40:06.457507: I tensorflow/compiler/mlir/mlir_graph_optimization_pass.cc:185] None of the MLIR Optimization Passes are enabled (registered 2)\n",
      "2021-11-25 20:40:08.213747: I tensorflow/stream_executor/cuda/cuda_dnn.cc:369] Loaded cuDNN version 8201\n"
     ]
    },
    {
     "name": "stdout",
     "output_type": "stream",
     "text": [
      "  1851/849119 [..............................] - ETA: 2:02:33 - loss: 0.0057 - mape: 4244850.5000"
     ]
    }
   ],
   "source": [
    "\n",
    "history = orientation_network.fit(\n",
    "    generate_training_samples(acc_np, gyro_np, mag_np, orient_np),\n",
    "    epochs=Nepochs,\n",
    "    initial_epoch=initial_epoch,\n",
    "    steps_per_epoch=len(orient_np),\n",
    "    batch_size=64,\n",
    "    callbacks = [check_point_callback]\n",
    ")"
   ]
  },
  {
   "cell_type": "code",
   "execution_count": null,
   "id": "0c6e0b83",
   "metadata": {},
   "outputs": [],
   "source": []
  },
  {
   "cell_type": "code",
   "execution_count": null,
   "id": "cb630921",
   "metadata": {},
   "outputs": [],
   "source": [
    "pos_learning_rate = 0.001"
   ]
  }
 ],
 "metadata": {
  "interpreter": {
   "hash": "99d844438d0062753c8520ac1ef2f592a408c8301da9bb020e092c67b124feb6"
  },
  "kernelspec": {
   "display_name": "Python 3.8.10 64-bit ('.venv': venv)",
   "name": "python3"
  },
  "language_info": {
   "codemirror_mode": {
    "name": "ipython",
    "version": 3
   },
   "file_extension": ".py",
   "mimetype": "text/x-python",
   "name": "python",
   "nbconvert_exporter": "python",
   "pygments_lexer": "ipython3",
   "version": "3.8.10"
  }
 },
 "nbformat": 4,
 "nbformat_minor": 5
}
