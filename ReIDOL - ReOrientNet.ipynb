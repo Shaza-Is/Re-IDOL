{
 "cells": [
  {
   "cell_type": "code",
   "execution_count": null,
   "id": "203a9682",
   "metadata": {},
   "outputs": [],
   "source": [
    "import os\n",
    "import numpy as np\n",
    "import pandas as pd\n",
    "import matplotlib.pyplot as plt\n",
    "import tensorflow as tf\n",
    "import glob"
   ]
  },
  {
   "cell_type": "code",
   "execution_count": null,
   "metadata": {},
   "outputs": [],
   "source": [
    "tf.test.is_built_with_cuda()"
   ]
  },
  {
   "cell_type": "code",
   "execution_count": null,
   "metadata": {},
   "outputs": [],
   "source": [
    "tf.config.list_physical_devices('GPU')"
   ]
  },
  {
   "cell_type": "code",
   "execution_count": null,
   "id": "3882afa5",
   "metadata": {},
   "outputs": [],
   "source": [
    "from tensorflow.keras.layers import LSTM,Concatenate, Dense, Flatten ,Activation ,Input , BatchNormalization,Dropout , Bidirectional\n",
    "from tensorflow.keras.models import Sequential, Model"
   ]
  },
  {
   "cell_type": "code",
   "execution_count": null,
   "id": "cfc10f9e",
   "metadata": {},
   "outputs": [],
   "source": []
  },
  {
   "cell_type": "code",
   "execution_count": null,
   "id": "b3cdb559",
   "metadata": {},
   "outputs": [],
   "source": [
    "building1_filenames = set(glob.glob(\"datasets/building1/*/*.feather\"))\n",
    "building2_filenames = set(glob.glob(\"datasets/building2/*/*.feather\"))\n",
    "building3_filenames = set(glob.glob(\"datasets/building3/*/*.feather\"))\n",
    "training_filenames = set(glob.glob(\"datasets/building1/known/*.feather\"))\n",
    "#test1_filenames = building1_filenames - training_filenames"
   ]
  },
  {
   "cell_type": "code",
   "execution_count": null,
   "id": "10cd02b3",
   "metadata": {},
   "outputs": [],
   "source": [
    "import random\n",
    "seed=10\n",
    "random.seed(seed)\n",
    "np.random.seed(seed)"
   ]
  },
  {
   "cell_type": "code",
   "execution_count": null,
   "id": "c0fd1c07",
   "metadata": {},
   "outputs": [],
   "source": [
    "# generate training samples\n",
    "\n",
    "dfs = []\n",
    "for file in training_filenames:\n",
    "    df = pd.read_feather(file)\n",
    "    dfs.append(df)\n",
    "\n",
    "\n",
    "training_data = pd.concat(dfs, ignore_index=True)\n",
    "\n",
    "#training_data.head()\n",
    "\n",
    "orientation_acc = training_data[[\"iphoneAccX\", \"iphoneAccY\", \"iphoneAccZ\"]]\n",
    "orientation_gyro = training_data[[ \"iphoneGyroX\", \"iphoneGyroY\", \"iphoneGyroZ\"]]\n",
    "orientation_mag = training_data[[ \"iphoneMagX\", \"iphoneMagY\", \"iphoneMagZ\"]] \n",
    "\n",
    "#orientation_data.head()"
   ]
  },
  {
   "cell_type": "code",
   "execution_count": null,
   "metadata": {},
   "outputs": [],
   "source": [
    "orientation_target = training_data[[\"orientX\", \"orientY\", \"orientZ\", \"orientW\"]] \n",
    "orientation_target.head()"
   ]
  },
  {
   "cell_type": "code",
   "execution_count": null,
   "metadata": {},
   "outputs": [],
   "source": [
    "acc_np = orientation_acc.to_numpy()\n",
    "gyro_np = orientation_gyro.to_numpy()\n",
    "mag_np = orientation_mag.to_numpy()"
   ]
  },
  {
   "cell_type": "code",
   "execution_count": null,
   "metadata": {},
   "outputs": [],
   "source": [
    "orient_np = orientation_target.to_numpy()\n",
    "len(orient_np)"
   ]
  },
  {
   "cell_type": "code",
   "execution_count": null,
   "metadata": {},
   "outputs": [],
   "source": [
    "def generate_training_samples(acc_, gyro_, mag_, orient_, batch_size = 64):\n",
    "    while True:\n",
    "        xa_batch = np.zeros((batch_size,100,3))\n",
    "        xg_batch = np.zeros((batch_size,100,3))\n",
    "        xm_batch = np.zeros((batch_size,100,3))\n",
    "        y_theta_batch = np.zeros((batch_size,4))\n",
    "        y_sigma_batch = np.finfo(np.float32).eps* np.ones((batch_size,6)) \n",
    "        y_batch = np.concatenate((y_theta_batch, y_sigma_batch), axis=1)\n",
    "        #print(y_batch.shape)\n",
    "        \n",
    "        j = 0\n",
    "        for i in range(len(orient_)):\n",
    "            xa_batch[j,:,:] = acc_[i, :]\n",
    "            xg_batch[j,:,:] = gyro_[i,:]\n",
    "            xm_batch[j,:,:] = mag_[i,:]\n",
    "            y_batch[j,:4] = orient_[i,:]\n",
    "            j += 1\n",
    "            if j >= batch_size:\n",
    "                j = 0              \n",
    "                yield([xa_batch,xg_batch, xm_batch],[y_batch])\n",
    "            #---------------------------------------------------------------------------------------"
   ]
  },
  {
   "cell_type": "code",
   "execution_count": null,
   "id": "35f258b4",
   "metadata": {},
   "outputs": [],
   "source": [
    "checkpoints_path = os.path.join(os.getcwd(),'datasets/CheckPoints_Model_OrientNet')\n",
    "\n",
    "if not os.path.exists(checkpoints_path):\n",
    "  os.mkdir(checkpoints_path)\n",
    "check_point_template_path = os.path.join(checkpoints_path,'ckpt_epoch_{epoch:03d}_loss_{loss:.4f}_.hdf5') # vloss_{val_loss:.4f}\n",
    "check_point_callback = tf.keras.callbacks.ModelCheckpoint(check_point_template_path)\n",
    "\n",
    "import re #regular expresion\n",
    "def get_all_checkpoints(checkpoints_path,checkpoint_main_name = 'ckpt'):\n",
    "  all_checkpoints = [j for j in os.listdir(checkpoints_path) if j.startswith(checkpoint_main_name)]\n",
    "  return all_checkpoints\n",
    "\n",
    "def check_if_available_checkpoints(checkpoints_path,checkpoint_main_name = 'ckpt'):\n",
    "  all_checkpoints = get_all_checkpoints(checkpoints_path,checkpoint_main_name)\n",
    "  if(len(all_checkpoints) > 0):#checkpoints avilable\n",
    "    all_checkpoints.sort(reverse=True)    \n",
    "    latest_check_point = all_checkpoints[0]\n",
    "    initial_epoch = int(re.search('epoch_(.*?)_', latest_check_point).group(1))    \n",
    "  else:\n",
    "    latest_check_point = None\n",
    "    initial_epoch = 0\n",
    "    \n",
    "  return initial_epoch , latest_check_point\n",
    "\n",
    "\n",
    "# Check if there are any check points initially\n",
    "initial_epoch , latest_check_point = check_if_available_checkpoints(checkpoints_path)"
   ]
  },
  {
   "cell_type": "code",
   "execution_count": null,
   "id": "b4d1f178",
   "metadata": {},
   "outputs": [],
   "source": [
    "orient_learning_rate = 0.0005 # convergence  within  20  epochs \\ref{IDOL}"
   ]
  },
  {
   "cell_type": "code",
   "execution_count": null,
   "id": "6fc6085c",
   "metadata": {},
   "outputs": [],
   "source": [
    "\n",
    "def quaterinion_inv(q):\n",
    "    return (1/(np.sum(q**2))) * np.array([-1*q[0], -1*q[1], -1*q[2], q[3]])\n",
    "\n",
    "def log_bar(q):\n",
    "    if q[3] == 0:\n",
    "        return np.array([0, 0, 0])\n",
    "    else:\n",
    "        v = q[:3]\n",
    "        return np.arctan2(np.norm(v), q[3])/np.norm(v) * v\n",
    "\n",
    "\n",
    "def quaternion_multiply(quaternion1, quaternion0):\n",
    "    w0, x0, y0, z0 = quaternion0\n",
    "    w1, x1, y1, z1 = quaternion1\n",
    "    return np.array([-x1 * x0 - y1 * y0 - z1 * z0 + w1 * w0,\n",
    "                     x1 * w0 + y1 * z0 - z1 * y0 + w1 * x0,\n",
    "                     -x1 * z0 + y1 * w0 + z1 * x0 + w1 * y0,\n",
    "                     x1 * y0 - y1 * x0 + z1 * w0 + w1 * z0], dtype=np.float64)\n",
    "\n",
    "def boximinus(q1, q2):\n",
    "    return 2 * log_bar(quaternion_multiply(quaterinion_inv(q2), q1))"
   ]
  },
  {
   "cell_type": "code",
   "execution_count": null,
   "id": "6ea8546c",
   "metadata": {},
   "outputs": [],
   "source": [
    "# Loss Function\n",
    "class OreintLoss(tf.keras.losses.Loss):\n",
    "  def call(self, y_true, y_pred):\n",
    "    # custom loss L_orient = 0.5*(q [-] \\hat{q})^T *Sig^{-1}* \n",
    "    # q = y[:4] sig = y[4:]\n",
    "    q = y_true[:4]\n",
    "    q_est = y_pred[:4]\n",
    "\n",
    "    delta = boximinus(q, q_est)\n",
    "\n",
    "    return tf.convert_to_tensor(np.transpose(delta) @ delta)\n",
    "\n",
    "class MyLossP(tf.keras.losses.Loss):\n",
    "  def call(self, y_true, y_pred):\n",
    "    # y_pred = tf.convert_to_tensor_v2(y_pred)\n",
    "    # y_true = tf.cast(y_true, y_pred.dtype)\n",
    "    return tf.sqrt(tf.reduce_mean((y_pred - y_true)**2, axis=-1))\n",
    "\n",
    "class MyLossA(tf.keras.losses.Loss):\n",
    "  def call(self, y_true, y_pred):\n",
    "    # y_pred = tf.convert_to_tensor_v2(y_pred)\n",
    "    # y_true = tf.cast(y_true, y_pred.dtype)\n",
    "    \n",
    "    return tf.sqrt(tf.reduce_mean((y_pred - y_true)**2, axis=-1))\n",
    "\n"
   ]
  },
  {
   "cell_type": "code",
   "execution_count": null,
   "id": "6ac8a3e1",
   "metadata": {},
   "outputs": [],
   "source": [
    "class OreintNet():\n",
    "    def build_model(self):\n",
    "        # Building Network\n",
    "        #1. Define inputs\n",
    "        Acc_input = Input(shape=(100,3), batch_size=64 , name = 'Acc_input')    \n",
    "        Gyro_input = Input(shape=(100,3),batch_size=64   , name = 'Gyro_input')\n",
    "        Mag_input = Input(shape=(100,3), batch_size=64   , name = 'Mag_input')\n",
    "        \n",
    "        MergedLayer = Concatenate()([Acc_input , Gyro_input, Mag_input])\n",
    "        #\n",
    "        ##MergedLayer = Input(shape=(9) , name = 'imu_input')\n",
    "        #2. LSTM\n",
    "        LSTM1 = (LSTM(100, return_sequences=True))(MergedLayer) # , return_sequences=True\n",
    "        LSTM2 = (LSTM(100, return_sequences=False))(LSTM1)\n",
    "        #print(\"Output shape of the LSTM layer's output : \", LSTM2.shape)\n",
    "        \n",
    "        #3. Fully-Connected (Sigma)\n",
    "        Dense1 = Dense(units=100, input_shape=(64,100), activation='tanh')(LSTM2)\n",
    "        Dense2 = Dense(units=32, activation='tanh')(Dense1)\n",
    "        theta_output = Dense(units=4, name='theta_out')(Dense2) # Sigma Outputs\n",
    "        \n",
    "        #4. Fully-Connected (Theta)\n",
    "        Dense3 = Dense(units=100, input_shape=(64,100), activation='tanh')(LSTM2) # input_shape=(\n",
    "        Dense4 = Dense(units=32, activation='tanh')(Dense3)\n",
    "        sigma_output = Dense(units=6, name='sig_out')(Dense4) # Theta Outputs  activation='linear'\n",
    "\n",
    "        ### specifies the weight per loss\n",
    "        ##losses = {\n",
    "        ##\"theta_out\": MyLossP(),\n",
    "        ##\"sig_out\": MyLossA(),\n",
    "        ##}\n",
    "        ##lossWeights = {\"theta_out\": 0.5, \"sig_out\": 0.5}\n",
    "\n",
    "        output = Concatenate()([theta_output, sigma_output])\n",
    "        #5. Define and compile The model\n",
    "        Network = Model([Acc_input,Gyro_input, Mag_input],  [output])  #  [Acc_input,Gyro_input, Mag_input]\n",
    "        Network.compile(loss=OreintLoss(), optimizer=tf.keras.optimizers.Adam(learning_rate=orient_learning_rate) ,metrics=['mape']) #loss=OreintLoss()\n",
    "        return Network\n",
    "        "
   ]
  },
  {
   "cell_type": "code",
   "execution_count": null,
   "metadata": {},
   "outputs": [],
   "source": [
    "#class OreintNet(Model):\n",
    "    "
   ]
  },
  {
   "cell_type": "code",
   "execution_count": null,
   "id": "76017c56",
   "metadata": {},
   "outputs": [],
   "source": [
    "network_builder = OreintNet()\n",
    "orientation_network = network_builder.build_model()"
   ]
  },
  {
   "cell_type": "code",
   "execution_count": null,
   "id": "f94fb091",
   "metadata": {},
   "outputs": [],
   "source": [
    "orientation_network.summary()"
   ]
  },
  {
   "cell_type": "code",
   "execution_count": null,
   "id": "7b96adcc",
   "metadata": {},
   "outputs": [],
   "source": [
    "Nepochs = 20\n",
    "history = orientation_network.fit(\n",
    "    generate_training_samples(acc_np, gyro_np, mag_np, orient_np),\n",
    "    epochs=Nepochs,\n",
    "    initial_epoch=initial_epoch,\n",
    "    steps_per_epoch=len(orient_np),\n",
    "    batch_size=64,\n",
    "    callbacks = [check_point_callback]\n",
    ")"
   ]
  },
  {
   "cell_type": "code",
   "execution_count": null,
   "id": "0c6e0b83",
   "metadata": {},
   "outputs": [],
   "source": []
  },
  {
   "cell_type": "code",
   "execution_count": null,
   "id": "cb630921",
   "metadata": {},
   "outputs": [],
   "source": [
    "pos_learning_rate = 0.001"
   ]
  }
 ],
 "metadata": {
  "interpreter": {
   "hash": "99d844438d0062753c8520ac1ef2f592a408c8301da9bb020e092c67b124feb6"
  },
  "kernelspec": {
   "display_name": "Python 3.8.10 64-bit ('.venv': venv)",
   "name": "python3"
  },
  "language_info": {
   "codemirror_mode": {
    "name": "ipython",
    "version": 3
   },
   "file_extension": ".py",
   "mimetype": "text/x-python",
   "name": "python",
   "nbconvert_exporter": "python",
   "pygments_lexer": "ipython3",
   "version": "3.8.10"
  }
 },
 "nbformat": 4,
 "nbformat_minor": 5
}
