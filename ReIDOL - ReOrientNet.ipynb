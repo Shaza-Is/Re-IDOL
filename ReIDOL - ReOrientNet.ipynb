{
 "cells": [
  {
   "cell_type": "code",
   "execution_count": 1,
   "id": "203a9682",
   "metadata": {},
   "outputs": [],
   "source": [
    "import os\n",
    "import numpy as np\n",
    "import pandas as pd\n",
    "import matplotlib.pyplot as plt\n",
    "import tensorflow as tf\n",
    "import glob"
   ]
  },
  {
   "cell_type": "code",
   "execution_count": 2,
   "metadata": {},
   "outputs": [
    {
     "data": {
      "text/plain": [
       "True"
      ]
     },
     "execution_count": 2,
     "metadata": {},
     "output_type": "execute_result"
    }
   ],
   "source": [
    "tf.test.is_built_with_cuda()"
   ]
  },
  {
   "cell_type": "code",
   "execution_count": 3,
   "metadata": {},
   "outputs": [
    {
     "name": "stderr",
     "output_type": "stream",
     "text": [
      "2021-10-24 21:09:42.765588: I tensorflow/stream_executor/cuda/cuda_gpu_executor.cc:937] successful NUMA node read from SysFS had negative value (-1), but there must be at least one NUMA node, so returning NUMA node zero\n",
      "2021-10-24 21:09:42.774386: I tensorflow/stream_executor/cuda/cuda_gpu_executor.cc:937] successful NUMA node read from SysFS had negative value (-1), but there must be at least one NUMA node, so returning NUMA node zero\n",
      "2021-10-24 21:09:42.774545: I tensorflow/stream_executor/cuda/cuda_gpu_executor.cc:937] successful NUMA node read from SysFS had negative value (-1), but there must be at least one NUMA node, so returning NUMA node zero\n"
     ]
    },
    {
     "data": {
      "text/plain": [
       "[PhysicalDevice(name='/physical_device:GPU:0', device_type='GPU')]"
      ]
     },
     "execution_count": 3,
     "metadata": {},
     "output_type": "execute_result"
    }
   ],
   "source": [
    "tf.config.list_physical_devices('GPU')"
   ]
  },
  {
   "cell_type": "code",
   "execution_count": 4,
   "id": "3882afa5",
   "metadata": {},
   "outputs": [],
   "source": [
    "from tensorflow.keras.layers import LSTM,Concatenate, Dense, Flatten ,Activation ,Input , BatchNormalization,Dropout , Bidirectional\n",
    "from tensorflow.keras.models import Sequential, Model"
   ]
  },
  {
   "cell_type": "code",
   "execution_count": null,
   "id": "cfc10f9e",
   "metadata": {},
   "outputs": [],
   "source": []
  },
  {
   "cell_type": "code",
   "execution_count": 5,
   "id": "b3cdb559",
   "metadata": {},
   "outputs": [],
   "source": [
    "building1_filenames = set(glob.glob(\"datasets/building1/*/*.feather\"))\n",
    "building2_filenames = set(glob.glob(\"datasets/building2/*/*.feather\"))\n",
    "building3_filenames = set(glob.glob(\"datasets/building3/*/*.feather\"))\n",
    "training_filenames = set(glob.glob(\"datasets/building1/known/*.feather\"))\n",
    "#test1_filenames = building1_filenames - training_filenames"
   ]
  },
  {
   "cell_type": "code",
   "execution_count": 6,
   "id": "10cd02b3",
   "metadata": {},
   "outputs": [],
   "source": [
    "import random\n",
    "seed=10\n",
    "random.seed(seed)\n",
    "np.random.seed(seed)"
   ]
  },
  {
   "cell_type": "code",
   "execution_count": 7,
   "id": "c0fd1c07",
   "metadata": {},
   "outputs": [],
   "source": [
    "# generate training samples\n",
    "\n",
    "dfs = []\n",
    "for file in training_filenames:\n",
    "    df = pd.read_feather(file)\n",
    "    dfs.append(df)\n",
    "\n",
    "\n",
    "training_data = pd.concat(dfs, ignore_index=True)\n",
    "\n",
    "#training_data.head()\n",
    "\n",
    "orientation_acc = training_data[[\"iphoneAccX\", \"iphoneAccY\", \"iphoneAccZ\"]]\n",
    "orientation_gyro = training_data[[ \"iphoneGyroX\", \"iphoneGyroY\", \"iphoneGyroZ\"]]\n",
    "orientation_mag = training_data[[ \"iphoneMagX\", \"iphoneMagY\", \"iphoneMagZ\"]] \n",
    "\n",
    "#orientation_data.head()"
   ]
  },
  {
   "cell_type": "code",
   "execution_count": 8,
   "metadata": {},
   "outputs": [
    {
     "data": {
      "text/html": [
       "<div>\n",
       "<style scoped>\n",
       "    .dataframe tbody tr th:only-of-type {\n",
       "        vertical-align: middle;\n",
       "    }\n",
       "\n",
       "    .dataframe tbody tr th {\n",
       "        vertical-align: top;\n",
       "    }\n",
       "\n",
       "    .dataframe thead th {\n",
       "        text-align: right;\n",
       "    }\n",
       "</style>\n",
       "<table border=\"1\" class=\"dataframe\">\n",
       "  <thead>\n",
       "    <tr style=\"text-align: right;\">\n",
       "      <th></th>\n",
       "      <th>orientX</th>\n",
       "      <th>orientY</th>\n",
       "      <th>orientZ</th>\n",
       "      <th>orientW</th>\n",
       "    </tr>\n",
       "  </thead>\n",
       "  <tbody>\n",
       "    <tr>\n",
       "      <th>0</th>\n",
       "      <td>0.009216</td>\n",
       "      <td>-0.011851</td>\n",
       "      <td>0.000507</td>\n",
       "      <td>0.999887</td>\n",
       "    </tr>\n",
       "    <tr>\n",
       "      <th>1</th>\n",
       "      <td>0.009243</td>\n",
       "      <td>-0.011874</td>\n",
       "      <td>0.000534</td>\n",
       "      <td>0.999887</td>\n",
       "    </tr>\n",
       "    <tr>\n",
       "      <th>2</th>\n",
       "      <td>0.009208</td>\n",
       "      <td>-0.011796</td>\n",
       "      <td>0.000560</td>\n",
       "      <td>0.999888</td>\n",
       "    </tr>\n",
       "    <tr>\n",
       "      <th>3</th>\n",
       "      <td>0.009251</td>\n",
       "      <td>-0.011790</td>\n",
       "      <td>0.000524</td>\n",
       "      <td>0.999888</td>\n",
       "    </tr>\n",
       "    <tr>\n",
       "      <th>4</th>\n",
       "      <td>0.009208</td>\n",
       "      <td>-0.011816</td>\n",
       "      <td>0.000439</td>\n",
       "      <td>0.999888</td>\n",
       "    </tr>\n",
       "  </tbody>\n",
       "</table>\n",
       "</div>"
      ],
      "text/plain": [
       "    orientX   orientY   orientZ   orientW\n",
       "0  0.009216 -0.011851  0.000507  0.999887\n",
       "1  0.009243 -0.011874  0.000534  0.999887\n",
       "2  0.009208 -0.011796  0.000560  0.999888\n",
       "3  0.009251 -0.011790  0.000524  0.999888\n",
       "4  0.009208 -0.011816  0.000439  0.999888"
      ]
     },
     "execution_count": 8,
     "metadata": {},
     "output_type": "execute_result"
    }
   ],
   "source": [
    "orientation_target = training_data[[\"orientX\", \"orientY\", \"orientZ\", \"orientW\"]] \n",
    "orientation_target.head()"
   ]
  },
  {
   "cell_type": "code",
   "execution_count": 9,
   "metadata": {},
   "outputs": [],
   "source": [
    "acc_np = orientation_acc.to_numpy()\n",
    "gyro_np = orientation_gyro.to_numpy()\n",
    "mag_np = orientation_mag.to_numpy()"
   ]
  },
  {
   "cell_type": "code",
   "execution_count": 10,
   "metadata": {},
   "outputs": [],
   "source": [
    "orient_np = orientation_target.to_numpy()"
   ]
  },
  {
   "cell_type": "code",
   "execution_count": 11,
   "metadata": {},
   "outputs": [],
   "source": [
    "def generate_training_samples(acc_, gyro_, mag_, orient_, batch_size = 64):    \n",
    "    while True:\n",
    "        xa_batch = np.zeros((batch_size,100,3))\n",
    "        xg_batch = np.zeros((batch_size,100,3))\n",
    "        xm_batch = np.zeros((batch_size,100,3))\n",
    "        y_theta_batch = np.zeros((batch_size,4))\n",
    "        y_sigma_batch = np.finfo(np.float32).eps* np.ones((batch_size,6)) \n",
    "        j = 0\n",
    "        for i in range(len(orient_)):\n",
    "            xa_batch[j,:,:] = acc_[i, :]\n",
    "            xg_batch[j,:,:] = gyro_[i,:]\n",
    "            xm_batch[j,:,:] = mag_[i,:]\n",
    "            y_theta_batch[j,:] = orient_[i,:]\n",
    "            j += 1\n",
    "            if j >= batch_size:\n",
    "                j = 0              \n",
    "                yield([xa_batch,xg_batch, xm_batch],[y_theta_batch, y_sigma_batch])\n",
    "            #---------------------------------------------------------------------------------------"
   ]
  },
  {
   "cell_type": "code",
   "execution_count": 12,
   "id": "35f258b4",
   "metadata": {},
   "outputs": [],
   "source": [
    "checkpoints_path = os.path.join(os.getcwd(),'datasets/CheckPoints_Model_OrientNet')\n",
    "\n",
    "if not os.path.exists(checkpoints_path):\n",
    "  os.mkdir(checkpoints_path)\n",
    "check_point_template_path = os.path.join(checkpoints_path,'ckpt_epoch_{epoch:03d}_loss_{loss:.4f}_vloss_{val_loss:.4f}.hdf5')\n",
    "check_point_callback = tf.keras.callbacks.ModelCheckpoint(check_point_template_path)\n",
    "\n",
    "import re #regular expresion\n",
    "def get_all_checkpoints(checkpoints_path,checkpoint_main_name = 'ckpt'):\n",
    "  all_checkpoints = [j for j in os.listdir(checkpoints_path) if j.startswith(checkpoint_main_name)]\n",
    "  return all_checkpoints\n",
    "\n",
    "def check_if_available_checkpoints(checkpoints_path,checkpoint_main_name = 'ckpt'):\n",
    "  all_checkpoints = get_all_checkpoints(checkpoints_path,checkpoint_main_name)\n",
    "  if(len(all_checkpoints) > 0):#checkpoints avilable\n",
    "    all_checkpoints.sort(reverse=True)    \n",
    "    latest_check_point = all_checkpoints[0]\n",
    "    initial_epoch = int(re.search('epoch_(.*?)_', latest_check_point).group(1))    \n",
    "  else:\n",
    "    latest_check_point = None\n",
    "    initial_epoch = 0\n",
    "    \n",
    "  return initial_epoch , latest_check_point\n",
    "\n",
    "\n",
    "# Check if there are any check points initially\n",
    "initial_epoch , latest_check_point = check_if_available_checkpoints(checkpoints_path)"
   ]
  },
  {
   "cell_type": "code",
   "execution_count": 13,
   "id": "b4d1f178",
   "metadata": {},
   "outputs": [],
   "source": [
    "orient_learning_rate = 0.0005 # convergence  within  20  epochs \\ref{IDOL}"
   ]
  },
  {
   "cell_type": "code",
   "execution_count": 14,
   "id": "6ea8546c",
   "metadata": {},
   "outputs": [],
   "source": [
    "# Loss Function\n",
    "class OreintLoss(tf.keras.losses.Loss):\n",
    "  def call(self, y_true, y_pred):\n",
    "    # custom loss L_orient = 0.5*(q [-] \\hat{q})^T *Sig^{-1}* \n",
    "    W = 25\n",
    "    ws = tf.constant([W,W,1,1,1,1],dtype=tf.float32)\n",
    "    return tf.sqrt(tf.reduce_mean(ws*(y_pred - y_true)**2, axis=-1))\n",
    "\n",
    "class MyLossP(tf.keras.losses.Loss):\n",
    "  def call(self, y_true, y_pred):\n",
    "    # y_pred = tf.convert_to_tensor_v2(y_pred)\n",
    "    # y_true = tf.cast(y_true, y_pred.dtype)\n",
    "    return tf.sqrt(tf.reduce_mean((y_pred - y_true)**2, axis=-1))\n",
    "\n",
    "class MyLossA(tf.keras.losses.Loss):\n",
    "  def call(self, y_true, y_pred):\n",
    "    # y_pred = tf.convert_to_tensor_v2(y_pred)\n",
    "    # y_true = tf.cast(y_true, y_pred.dtype)\n",
    "    \n",
    "    return tf.sqrt(tf.reduce_mean((y_pred - y_true)**2, axis=-1))\n",
    "\n"
   ]
  },
  {
   "cell_type": "code",
   "execution_count": 15,
   "id": "6ac8a3e1",
   "metadata": {},
   "outputs": [],
   "source": [
    "class OreintNet():\n",
    "    def build_model(self):\n",
    "        # Building Network\n",
    "        #1. Define inputs\n",
    "        Acc_input = Input(shape=(100,3), batch_size=64 , name = 'Acc_input')    \n",
    "        Gyro_input = Input(shape=(100,3),batch_size=64   , name = 'Gyro_input')\n",
    "        Mag_input = Input(shape=(100,3), batch_size=64   , name = 'Mag_input')\n",
    "        \n",
    "        MergedLayer = Concatenate()([Acc_input , Gyro_input, Mag_input])\n",
    "        #\n",
    "        ##MergedLayer = Input(shape=(9) , name = 'imu_input')\n",
    "        #2. LSTM\n",
    "        LSTM1 = (LSTM(100, return_sequences=True))(MergedLayer) # , return_sequences=True\n",
    "        LSTM2 = (LSTM(100, return_sequences=False))(LSTM1)\n",
    "        #print(\"Output shape of the LSTM layer's output : \", LSTM2.shape)\n",
    "        \n",
    "        #3. Fully-Connected (Sigma)\n",
    "        Dense1 = Dense(units=100, input_shape=(64,100), activation='tanh')(LSTM2)\n",
    "        Dense2 = Dense(units=32, activation='tanh')(Dense1)\n",
    "        theta_output = Dense(units=4, name='theta_out')(Dense2) # Sigma Outputs\n",
    "        \n",
    "        #4. Fully-Connected (Theta)\n",
    "        Dense3 = Dense(units=100, input_shape=(64,100), activation='tanh')(LSTM2) # input_shape=(\n",
    "        Dense4 = Dense(units=32, activation='tanh')(Dense3)\n",
    "        sigma_output = Dense(units=6, name='sig_out')(Dense4) # Theta Outputs  activation='linear'\n",
    "\n",
    "        # specifies the weight per loss\n",
    "        losses = {\n",
    "        \"theta_out\": MyLossP(),\n",
    "        \"sig_out\": MyLossA(),\n",
    "        }\n",
    "        lossWeights = {\"theta_out\": 0.5, \"sig_out\": 0.5}\n",
    "\n",
    "        \n",
    "        #5. Define and compile The model\n",
    "        Network = Model([Acc_input,Gyro_input, Mag_input],  [theta_output , sigma_output])  #  [Acc_input,Gyro_input, Mag_input]\n",
    "        Network.compile(loss=losses, loss_weights=lossWeights, optimizer=tf.keras.optimizers.Adam(learning_rate=orient_learning_rate) ,metrics=['mape']) #loss=OreintLoss()\n",
    "        return Network\n",
    "        "
   ]
  },
  {
   "cell_type": "code",
   "execution_count": 16,
   "metadata": {},
   "outputs": [],
   "source": [
    "#class OreintNet(Model):\n",
    "    "
   ]
  },
  {
   "cell_type": "code",
   "execution_count": 17,
   "id": "76017c56",
   "metadata": {},
   "outputs": [
    {
     "name": "stderr",
     "output_type": "stream",
     "text": [
      "2021-10-24 21:09:43.713151: I tensorflow/core/platform/cpu_feature_guard.cc:142] This TensorFlow binary is optimized with oneAPI Deep Neural Network Library (oneDNN) to use the following CPU instructions in performance-critical operations:  AVX2 FMA\n",
      "To enable them in other operations, rebuild TensorFlow with the appropriate compiler flags.\n",
      "2021-10-24 21:09:43.713653: I tensorflow/stream_executor/cuda/cuda_gpu_executor.cc:937] successful NUMA node read from SysFS had negative value (-1), but there must be at least one NUMA node, so returning NUMA node zero\n",
      "2021-10-24 21:09:43.713878: I tensorflow/stream_executor/cuda/cuda_gpu_executor.cc:937] successful NUMA node read from SysFS had negative value (-1), but there must be at least one NUMA node, so returning NUMA node zero\n",
      "2021-10-24 21:09:43.714044: I tensorflow/stream_executor/cuda/cuda_gpu_executor.cc:937] successful NUMA node read from SysFS had negative value (-1), but there must be at least one NUMA node, so returning NUMA node zero\n",
      "2021-10-24 21:09:44.035632: I tensorflow/stream_executor/cuda/cuda_gpu_executor.cc:937] successful NUMA node read from SysFS had negative value (-1), but there must be at least one NUMA node, so returning NUMA node zero\n",
      "2021-10-24 21:09:44.035888: I tensorflow/stream_executor/cuda/cuda_gpu_executor.cc:937] successful NUMA node read from SysFS had negative value (-1), but there must be at least one NUMA node, so returning NUMA node zero\n",
      "2021-10-24 21:09:44.036076: I tensorflow/stream_executor/cuda/cuda_gpu_executor.cc:937] successful NUMA node read from SysFS had negative value (-1), but there must be at least one NUMA node, so returning NUMA node zero\n",
      "2021-10-24 21:09:44.036324: I tensorflow/core/common_runtime/gpu/gpu_device.cc:1510] Created device /job:localhost/replica:0/task:0/device:GPU:0 with 4259 MB memory:  -> device: 0, name: NVIDIA GeForce RTX 2060, pci bus id: 0000:01:00.0, compute capability: 7.5\n"
     ]
    }
   ],
   "source": [
    "network_builder = OreintNet()\n",
    "orientation_network = network_builder.build_model()"
   ]
  },
  {
   "cell_type": "code",
   "execution_count": 18,
   "id": "f94fb091",
   "metadata": {},
   "outputs": [
    {
     "name": "stdout",
     "output_type": "stream",
     "text": [
      "Model: \"model\"\n",
      "__________________________________________________________________________________________________\n",
      "Layer (type)                    Output Shape         Param #     Connected to                     \n",
      "==================================================================================================\n",
      "Acc_input (InputLayer)          [(64, 100, 3)]       0                                            \n",
      "__________________________________________________________________________________________________\n",
      "Gyro_input (InputLayer)         [(64, 100, 3)]       0                                            \n",
      "__________________________________________________________________________________________________\n",
      "Mag_input (InputLayer)          [(64, 100, 3)]       0                                            \n",
      "__________________________________________________________________________________________________\n",
      "concatenate (Concatenate)       (64, 100, 9)         0           Acc_input[0][0]                  \n",
      "                                                                 Gyro_input[0][0]                 \n",
      "                                                                 Mag_input[0][0]                  \n",
      "__________________________________________________________________________________________________\n",
      "lstm (LSTM)                     (64, 100, 100)       44000       concatenate[0][0]                \n",
      "__________________________________________________________________________________________________\n",
      "lstm_1 (LSTM)                   (64, 100)            80400       lstm[0][0]                       \n",
      "__________________________________________________________________________________________________\n",
      "dense (Dense)                   (64, 100)            10100       lstm_1[0][0]                     \n",
      "__________________________________________________________________________________________________\n",
      "dense_2 (Dense)                 (64, 100)            10100       lstm_1[0][0]                     \n",
      "__________________________________________________________________________________________________\n",
      "dense_1 (Dense)                 (64, 32)             3232        dense[0][0]                      \n",
      "__________________________________________________________________________________________________\n",
      "dense_3 (Dense)                 (64, 32)             3232        dense_2[0][0]                    \n",
      "__________________________________________________________________________________________________\n",
      "theta_out (Dense)               (64, 4)              132         dense_1[0][0]                    \n",
      "__________________________________________________________________________________________________\n",
      "sig_out (Dense)                 (64, 6)              198         dense_3[0][0]                    \n",
      "==================================================================================================\n",
      "Total params: 151,394\n",
      "Trainable params: 151,394\n",
      "Non-trainable params: 0\n",
      "__________________________________________________________________________________________________\n"
     ]
    }
   ],
   "source": [
    "orientation_network.summary()"
   ]
  },
  {
   "cell_type": "code",
   "execution_count": 19,
   "id": "7b96adcc",
   "metadata": {},
   "outputs": [
    {
     "name": "stdout",
     "output_type": "stream",
     "text": [
      "Epoch 1/20\n"
     ]
    },
    {
     "name": "stderr",
     "output_type": "stream",
     "text": [
      "2021-10-24 21:09:44.504600: I tensorflow/compiler/mlir/mlir_graph_optimization_pass.cc:185] None of the MLIR Optimization Passes are enabled (registered 2)\n",
      "2021-10-24 21:09:46.288905: I tensorflow/stream_executor/cuda/cuda_dnn.cc:369] Loaded cuDNN version 8201\n"
     ]
    },
    {
     "name": "stdout",
     "output_type": "stream",
     "text": [
      " 620221/Unknown - 5968s 10ms/step - loss: 0.1791 - theta_out_loss: 0.3581 - sig_out_loss: 4.9232e-05 - theta_out_mape: 745.0502 - sig_out_mape: 28190.8848"
     ]
    }
   ],
   "source": [
    "Nepochs = 20\n",
    "history = orientation_network.fit(\n",
    "    generate_training_samples(acc_np, gyro_np, mag_np, orient_np),\n",
    "    epochs=Nepochs,\n",
    "    initial_epoch=initial_epoch,\n",
    "    batch_size=64,\n",
    "    callbacks = [check_point_callback]\n",
    ")"
   ]
  },
  {
   "cell_type": "code",
   "execution_count": null,
   "id": "0c6e0b83",
   "metadata": {},
   "outputs": [],
   "source": []
  },
  {
   "cell_type": "code",
   "execution_count": null,
   "id": "cb630921",
   "metadata": {},
   "outputs": [],
   "source": [
    "pos_learning_rate = 0.001"
   ]
  }
 ],
 "metadata": {
  "interpreter": {
   "hash": "99d844438d0062753c8520ac1ef2f592a408c8301da9bb020e092c67b124feb6"
  },
  "kernelspec": {
   "display_name": "Python 3.8.10 64-bit ('.venv': venv)",
   "name": "python3"
  },
  "language_info": {
   "codemirror_mode": {
    "name": "ipython",
    "version": 3
   },
   "file_extension": ".py",
   "mimetype": "text/x-python",
   "name": "python",
   "nbconvert_exporter": "python",
   "pygments_lexer": "ipython3",
   "version": "3.8.10"
  }
 },
 "nbformat": 4,
 "nbformat_minor": 5
}
