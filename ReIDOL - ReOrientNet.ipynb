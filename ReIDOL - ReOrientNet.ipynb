{
 "cells": [
  {
   "cell_type": "code",
   "execution_count": 9,
   "id": "203a9682",
   "metadata": {},
   "outputs": [],
   "source": [
    "import os\n",
    "import numpy as np\n",
    "import pandas as pd\n",
    "import matplotlib.pyplot as plt\n",
    "import tensorflow as tf\n",
    "import glob"
   ]
  },
  {
   "cell_type": "code",
   "execution_count": 10,
   "metadata": {},
   "outputs": [
    {
     "data": {
      "text/plain": [
       "True"
      ]
     },
     "execution_count": 10,
     "metadata": {},
     "output_type": "execute_result"
    }
   ],
   "source": [
    "tf.test.is_built_with_cuda()"
   ]
  },
  {
   "cell_type": "code",
   "execution_count": 11,
   "metadata": {},
   "outputs": [
    {
     "data": {
      "text/plain": [
       "[PhysicalDevice(name='/physical_device:GPU:0', device_type='GPU')]"
      ]
     },
     "execution_count": 11,
     "metadata": {},
     "output_type": "execute_result"
    }
   ],
   "source": [
    "tf.config.list_physical_devices('GPU')"
   ]
  },
  {
   "cell_type": "code",
   "execution_count": 12,
   "id": "3882afa5",
   "metadata": {},
   "outputs": [],
   "source": [
    "from tensorflow.keras.layers import LSTM,Concatenate, Dense, Flatten ,Activation ,Input , BatchNormalization,Dropout , Bidirectional\n",
    "from tensorflow.keras.models import Sequential, Model"
   ]
  },
  {
   "cell_type": "code",
   "execution_count": 13,
   "id": "cfc10f9e",
   "metadata": {},
   "outputs": [],
   "source": [
    "# function needed for angle wrapping\n",
    "def wrap_angles(a):\n",
    "    ad = np.remainder(a,2*np.pi)\n",
    "    ad[ad > np.pi] -= 2*np.pi\n",
    "    ad[ad < -np.pi] += 2*np.pi\n",
    "    return ad"
   ]
  },
  {
   "cell_type": "code",
   "execution_count": 14,
   "id": "b3cdb559",
   "metadata": {},
   "outputs": [],
   "source": [
    "building1_filenames = set(glob.glob(\"datasets/building1/*/*.feather\"))\n",
    "building2_filenames = set(glob.glob(\"datasets/building2/*/*.feather\"))\n",
    "building3_filenames = set(glob.glob(\"datasets/building3/*/*.feather\"))\n",
    "training_filenames = set(glob.glob(\"datasets/building1/train/*.feather\"))\n",
    "test1_filenames = building1_filenames - training_filenames"
   ]
  },
  {
   "cell_type": "code",
   "execution_count": 15,
   "id": "10cd02b3",
   "metadata": {},
   "outputs": [],
   "source": [
    "import random\n",
    "seed=10\n",
    "random.seed(seed)\n",
    "np.random.seed(seed)"
   ]
  },
  {
   "cell_type": "code",
   "execution_count": 16,
   "id": "c0fd1c07",
   "metadata": {},
   "outputs": [
    {
     "data": {
      "text/html": [
       "<div>\n",
       "<style scoped>\n",
       "    .dataframe tbody tr th:only-of-type {\n",
       "        vertical-align: middle;\n",
       "    }\n",
       "\n",
       "    .dataframe tbody tr th {\n",
       "        vertical-align: top;\n",
       "    }\n",
       "\n",
       "    .dataframe thead th {\n",
       "        text-align: right;\n",
       "    }\n",
       "</style>\n",
       "<table border=\"1\" class=\"dataframe\">\n",
       "  <thead>\n",
       "    <tr style=\"text-align: right;\">\n",
       "      <th></th>\n",
       "      <th>index</th>\n",
       "      <th>stencilAccX</th>\n",
       "      <th>stencilAccY</th>\n",
       "      <th>stencilAccZ</th>\n",
       "      <th>stencilGyroX</th>\n",
       "      <th>stencilGyroY</th>\n",
       "      <th>stencilGyroZ</th>\n",
       "      <th>iphoneOrientW</th>\n",
       "      <th>iphoneOrientX</th>\n",
       "      <th>iphoneOrientY</th>\n",
       "      <th>...</th>\n",
       "      <th>iphoneMagZ</th>\n",
       "      <th>iphoneAccX</th>\n",
       "      <th>iphoneAccY</th>\n",
       "      <th>iphoneAccZ</th>\n",
       "      <th>iphoneGyroX</th>\n",
       "      <th>iphoneGyroY</th>\n",
       "      <th>iphoneGyroZ</th>\n",
       "      <th>processedPosX</th>\n",
       "      <th>processedPosY</th>\n",
       "      <th>processedPosZ</th>\n",
       "    </tr>\n",
       "  </thead>\n",
       "  <tbody>\n",
       "    <tr>\n",
       "      <th>0</th>\n",
       "      <td>0</td>\n",
       "      <td>-0.271240</td>\n",
       "      <td>0.017265</td>\n",
       "      <td>9.814681</td>\n",
       "      <td>0.005063</td>\n",
       "      <td>0.003404</td>\n",
       "      <td>0.000095</td>\n",
       "      <td>0.999879</td>\n",
       "      <td>0.004516</td>\n",
       "      <td>0.014719</td>\n",
       "      <td>...</td>\n",
       "      <td>-587.832397</td>\n",
       "      <td>-0.009735</td>\n",
       "      <td>-0.033218</td>\n",
       "      <td>-1.024872</td>\n",
       "      <td>-0.004423</td>\n",
       "      <td>-0.011610</td>\n",
       "      <td>-0.014319</td>\n",
       "      <td>0.007579</td>\n",
       "      <td>0.011608</td>\n",
       "      <td>0.004128</td>\n",
       "    </tr>\n",
       "    <tr>\n",
       "      <th>1</th>\n",
       "      <td>2</td>\n",
       "      <td>-0.223503</td>\n",
       "      <td>-0.000951</td>\n",
       "      <td>9.789928</td>\n",
       "      <td>0.005674</td>\n",
       "      <td>0.016008</td>\n",
       "      <td>0.000641</td>\n",
       "      <td>0.999879</td>\n",
       "      <td>0.004492</td>\n",
       "      <td>0.014767</td>\n",
       "      <td>...</td>\n",
       "      <td>-587.832432</td>\n",
       "      <td>-0.010498</td>\n",
       "      <td>-0.033798</td>\n",
       "      <td>-1.022766</td>\n",
       "      <td>-0.004423</td>\n",
       "      <td>-0.011609</td>\n",
       "      <td>-0.014309</td>\n",
       "      <td>0.007499</td>\n",
       "      <td>0.011634</td>\n",
       "      <td>0.003860</td>\n",
       "    </tr>\n",
       "    <tr>\n",
       "      <th>2</th>\n",
       "      <td>4</td>\n",
       "      <td>-0.264626</td>\n",
       "      <td>0.018167</td>\n",
       "      <td>9.815163</td>\n",
       "      <td>0.011305</td>\n",
       "      <td>0.009493</td>\n",
       "      <td>-0.010202</td>\n",
       "      <td>0.999878</td>\n",
       "      <td>0.004516</td>\n",
       "      <td>0.014824</td>\n",
       "      <td>...</td>\n",
       "      <td>-588.256104</td>\n",
       "      <td>-0.012772</td>\n",
       "      <td>-0.034927</td>\n",
       "      <td>-1.026323</td>\n",
       "      <td>-0.007207</td>\n",
       "      <td>-0.007093</td>\n",
       "      <td>-0.014308</td>\n",
       "      <td>0.007416</td>\n",
       "      <td>0.011658</td>\n",
       "      <td>0.003587</td>\n",
       "    </tr>\n",
       "    <tr>\n",
       "      <th>3</th>\n",
       "      <td>6</td>\n",
       "      <td>-0.259907</td>\n",
       "      <td>0.037563</td>\n",
       "      <td>9.826657</td>\n",
       "      <td>0.009052</td>\n",
       "      <td>0.001445</td>\n",
       "      <td>0.000408</td>\n",
       "      <td>0.999878</td>\n",
       "      <td>0.004530</td>\n",
       "      <td>0.014836</td>\n",
       "      <td>...</td>\n",
       "      <td>-588.256170</td>\n",
       "      <td>-0.013976</td>\n",
       "      <td>-0.034714</td>\n",
       "      <td>-1.034287</td>\n",
       "      <td>-0.010574</td>\n",
       "      <td>-0.002152</td>\n",
       "      <td>-0.006783</td>\n",
       "      <td>0.007329</td>\n",
       "      <td>0.011679</td>\n",
       "      <td>0.003311</td>\n",
       "    </tr>\n",
       "    <tr>\n",
       "      <th>4</th>\n",
       "      <td>8</td>\n",
       "      <td>-0.244414</td>\n",
       "      <td>0.017294</td>\n",
       "      <td>9.818577</td>\n",
       "      <td>0.003527</td>\n",
       "      <td>0.006615</td>\n",
       "      <td>-0.001128</td>\n",
       "      <td>0.999878</td>\n",
       "      <td>0.004523</td>\n",
       "      <td>0.014838</td>\n",
       "      <td>...</td>\n",
       "      <td>-588.523621</td>\n",
       "      <td>-0.009826</td>\n",
       "      <td>-0.033874</td>\n",
       "      <td>-1.034314</td>\n",
       "      <td>-0.015048</td>\n",
       "      <td>-0.004564</td>\n",
       "      <td>-0.007740</td>\n",
       "      <td>0.007241</td>\n",
       "      <td>0.011698</td>\n",
       "      <td>0.003030</td>\n",
       "    </tr>\n",
       "  </tbody>\n",
       "</table>\n",
       "<p>5 rows × 28 columns</p>\n",
       "</div>"
      ],
      "text/plain": [
       "   index  stencilAccX  stencilAccY  stencilAccZ  stencilGyroX  stencilGyroY  \\\n",
       "0      0    -0.271240     0.017265     9.814681      0.005063      0.003404   \n",
       "1      2    -0.223503    -0.000951     9.789928      0.005674      0.016008   \n",
       "2      4    -0.264626     0.018167     9.815163      0.011305      0.009493   \n",
       "3      6    -0.259907     0.037563     9.826657      0.009052      0.001445   \n",
       "4      8    -0.244414     0.017294     9.818577      0.003527      0.006615   \n",
       "\n",
       "   stencilGyroZ  iphoneOrientW  iphoneOrientX  iphoneOrientY  ...  iphoneMagZ  \\\n",
       "0      0.000095       0.999879       0.004516       0.014719  ... -587.832397   \n",
       "1      0.000641       0.999879       0.004492       0.014767  ... -587.832432   \n",
       "2     -0.010202       0.999878       0.004516       0.014824  ... -588.256104   \n",
       "3      0.000408       0.999878       0.004530       0.014836  ... -588.256170   \n",
       "4     -0.001128       0.999878       0.004523       0.014838  ... -588.523621   \n",
       "\n",
       "   iphoneAccX  iphoneAccY  iphoneAccZ  iphoneGyroX  iphoneGyroY  iphoneGyroZ  \\\n",
       "0   -0.009735   -0.033218   -1.024872    -0.004423    -0.011610    -0.014319   \n",
       "1   -0.010498   -0.033798   -1.022766    -0.004423    -0.011609    -0.014309   \n",
       "2   -0.012772   -0.034927   -1.026323    -0.007207    -0.007093    -0.014308   \n",
       "3   -0.013976   -0.034714   -1.034287    -0.010574    -0.002152    -0.006783   \n",
       "4   -0.009826   -0.033874   -1.034314    -0.015048    -0.004564    -0.007740   \n",
       "\n",
       "   processedPosX  processedPosY  processedPosZ  \n",
       "0       0.007579       0.011608       0.004128  \n",
       "1       0.007499       0.011634       0.003860  \n",
       "2       0.007416       0.011658       0.003587  \n",
       "3       0.007329       0.011679       0.003311  \n",
       "4       0.007241       0.011698       0.003030  \n",
       "\n",
       "[5 rows x 28 columns]"
      ]
     },
     "execution_count": 16,
     "metadata": {},
     "output_type": "execute_result"
    }
   ],
   "source": [
    "# generate training samples\n",
    "\n",
    "dfs = []\n",
    "for file in training_filenames:\n",
    "    df = pd.read_feather(file)\n",
    "    dfs.append(df)\n",
    "\n",
    "\n",
    "training_data = pd.concat(dfs, ignore_index=True)\n",
    "\n",
    "training_data.head()"
   ]
  },
  {
   "cell_type": "code",
   "execution_count": 17,
   "id": "35f258b4",
   "metadata": {},
   "outputs": [],
   "source": [
    "checkpoints_path = os.path.join(os.getcwd(),'datasets/CheckPoints_Model_OrientNet')\n",
    "\n",
    "if not os.path.exists(checkpoints_path):\n",
    "  os.mkdir(checkpoints_path)\n",
    "check_point_template_path = os.path.join(checkpoints_path,'ckpt_epoch_{epoch:03d}_loss_{loss:.4f}_vloss_{val_loss:.4f}.hdf5')\n",
    "check_point_callback = tf.keras.callbacks.ModelCheckpoint(check_point_template_path)\n",
    "\n",
    "import re #regular expresion\n",
    "def get_all_checkpoints(checkpoints_path,checkpoint_main_name = 'ckpt'):\n",
    "  all_checkpoints = [j for j in os.listdir(checkpoints_path) if j.startswith(checkpoint_main_name)]\n",
    "  return all_checkpoints\n",
    "\n",
    "def check_if_available_checkpoints(checkpoints_path,checkpoint_main_name = 'ckpt'):\n",
    "  all_checkpoints = get_all_checkpoints(checkpoints_path,checkpoint_main_name)\n",
    "  if(len(all_checkpoints) > 0):#checkpoints avilable\n",
    "    all_checkpoints.sort(reverse=True)    \n",
    "    latest_check_point = all_checkpoints[0]\n",
    "    initial_epoch = int(re.search('epoch_(.*?)_', latest_check_point).group(1))    \n",
    "  else:\n",
    "    latest_check_point = None\n",
    "    initial_epoch = 0\n",
    "    \n",
    "  return initial_epoch , latest_check_point\n",
    "\n",
    "\n",
    "# Check if there are any check points initially\n",
    "initial_epoch , latest_check_point = check_if_available_checkpoints(checkpoints_path)"
   ]
  },
  {
   "cell_type": "code",
   "execution_count": 18,
   "id": "b4d1f178",
   "metadata": {},
   "outputs": [],
   "source": [
    "orient_learning_rate = 0.0005 # convergence  within  20  epochs \\ref{IDOL}"
   ]
  },
  {
   "cell_type": "code",
   "execution_count": 19,
   "id": "6ea8546c",
   "metadata": {},
   "outputs": [],
   "source": [
    "# Loss Function\n",
    "class OreintLoss(tf.keras.losses.Loss):\n",
    "  def call(self, y_true, y_pred):\n",
    "    # custom loss L_orient = 0.5*(q [-] \\hat{q})^T *Sig^{-1}* \n",
    "    W = 25\n",
    "    ws = tf.constant([W,W,1,1,1,1],dtype=tf.float32)\n",
    "    return tf.sqrt(tf.reduce_mean(ws*(y_pred - y_true)**2, axis=-1))"
   ]
  },
  {
   "cell_type": "code",
   "execution_count": 20,
   "id": "6ac8a3e1",
   "metadata": {},
   "outputs": [],
   "source": [
    "class OreintNet():\n",
    "    def build_model(self):\n",
    "        # Building Network\n",
    "        #1. Define inputs\n",
    "        Acc_input = Input(shape=(100,3) , name = 'Acc_input')    \n",
    "        Gyro_input = Input(shape=(100,3) , name = 'Gyro_input')\n",
    "        Mag_input = Input(shape=(100,3) , name = 'Mag_input')\n",
    "        \n",
    "        MergedLayer = Concatenate()([Acc_input , Gyro_input, Mag_input])\n",
    "        \n",
    "        #2. LSTM\n",
    "        LSTM1 = (LSTM(100, return_sequences=True))(MergedLayer)\n",
    "        LSTM2 = (LSTM(100))(LSTM1)\n",
    "        \n",
    "        #3. Fully-Connected (Sigma)\n",
    "        Dense1 = Dense(units=100, activation='tanh')(LSTM2)\n",
    "        Dense2 = Dense(units=16, activation='tanh')(Dense1)\n",
    "        sigma_output = Dense(units=6, activation='linear')(Dense2) # Sigma Outputs\n",
    "        \n",
    "        #4. Fully-Connected (Theta)\n",
    "        Dense3 = Dense(units=100, activation='tanh')(LSTM2)\n",
    "        Dense4 = Dense(units=16, activation='tanh')(Dense3)\n",
    "        theta_output = Dense(units=6, activation='linear')(Dense4) # Theta Outputs\n",
    "        \n",
    "        #5. Define and compile The model\n",
    "        Network = Model([Acc_input,Gyro_input, Mag_input] ,  [theta_output , sigma_output])\n",
    "        Network.compile(loss=OreintLoss(), optimizer=tf.keras.optimizers.Adam(learning_rate=orient_learning_rate) ,metrics=['rmse'])\n",
    "        return Network\n",
    "        "
   ]
  },
  {
   "cell_type": "code",
   "execution_count": 21,
   "id": "76017c56",
   "metadata": {},
   "outputs": [
    {
     "name": "stderr",
     "output_type": "stream",
     "text": [
      "2021-10-22 10:00:19.410767: I tensorflow/core/platform/cpu_feature_guard.cc:142] This TensorFlow binary is optimized with oneAPI Deep Neural Network Library (oneDNN) to use the following CPU instructions in performance-critical operations:  AVX2 FMA\n",
      "To enable them in other operations, rebuild TensorFlow with the appropriate compiler flags.\n",
      "2021-10-22 10:00:19.411350: I tensorflow/stream_executor/cuda/cuda_gpu_executor.cc:937] successful NUMA node read from SysFS had negative value (-1), but there must be at least one NUMA node, so returning NUMA node zero\n",
      "2021-10-22 10:00:19.411513: I tensorflow/stream_executor/cuda/cuda_gpu_executor.cc:937] successful NUMA node read from SysFS had negative value (-1), but there must be at least one NUMA node, so returning NUMA node zero\n",
      "2021-10-22 10:00:19.411625: I tensorflow/stream_executor/cuda/cuda_gpu_executor.cc:937] successful NUMA node read from SysFS had negative value (-1), but there must be at least one NUMA node, so returning NUMA node zero\n",
      "2021-10-22 10:00:20.034679: I tensorflow/stream_executor/cuda/cuda_gpu_executor.cc:937] successful NUMA node read from SysFS had negative value (-1), but there must be at least one NUMA node, so returning NUMA node zero\n",
      "2021-10-22 10:00:20.034863: I tensorflow/stream_executor/cuda/cuda_gpu_executor.cc:937] successful NUMA node read from SysFS had negative value (-1), but there must be at least one NUMA node, so returning NUMA node zero\n",
      "2021-10-22 10:00:20.034994: I tensorflow/stream_executor/cuda/cuda_gpu_executor.cc:937] successful NUMA node read from SysFS had negative value (-1), but there must be at least one NUMA node, so returning NUMA node zero\n",
      "2021-10-22 10:00:20.035104: I tensorflow/core/common_runtime/gpu/gpu_device.cc:1510] Created device /job:localhost/replica:0/task:0/device:GPU:0 with 3931 MB memory:  -> device: 0, name: NVIDIA GeForce RTX 2060, pci bus id: 0000:01:00.0, compute capability: 7.5\n"
     ]
    }
   ],
   "source": [
    "network_builder = OreintNet()\n",
    "orientation_network = network_builder.build_model()"
   ]
  },
  {
   "cell_type": "code",
   "execution_count": 22,
   "id": "f94fb091",
   "metadata": {},
   "outputs": [
    {
     "name": "stdout",
     "output_type": "stream",
     "text": [
      "Model: \"model\"\n",
      "__________________________________________________________________________________________________\n",
      "Layer (type)                    Output Shape         Param #     Connected to                     \n",
      "==================================================================================================\n",
      "Acc_input (InputLayer)          [(None, 100, 3)]     0                                            \n",
      "__________________________________________________________________________________________________\n",
      "Gyro_input (InputLayer)         [(None, 100, 3)]     0                                            \n",
      "__________________________________________________________________________________________________\n",
      "Mag_input (InputLayer)          [(None, 100, 3)]     0                                            \n",
      "__________________________________________________________________________________________________\n",
      "concatenate (Concatenate)       (None, 100, 9)       0           Acc_input[0][0]                  \n",
      "                                                                 Gyro_input[0][0]                 \n",
      "                                                                 Mag_input[0][0]                  \n",
      "__________________________________________________________________________________________________\n",
      "lstm (LSTM)                     (None, 100, 100)     44000       concatenate[0][0]                \n",
      "__________________________________________________________________________________________________\n",
      "lstm_1 (LSTM)                   (None, 100)          80400       lstm[0][0]                       \n",
      "__________________________________________________________________________________________________\n",
      "dense_3 (Dense)                 (None, 100)          10100       lstm_1[0][0]                     \n",
      "__________________________________________________________________________________________________\n",
      "dense (Dense)                   (None, 100)          10100       lstm_1[0][0]                     \n",
      "__________________________________________________________________________________________________\n",
      "dense_4 (Dense)                 (None, 16)           1616        dense_3[0][0]                    \n",
      "__________________________________________________________________________________________________\n",
      "dense_1 (Dense)                 (None, 16)           1616        dense[0][0]                      \n",
      "__________________________________________________________________________________________________\n",
      "dense_5 (Dense)                 (None, 6)            102         dense_4[0][0]                    \n",
      "__________________________________________________________________________________________________\n",
      "dense_2 (Dense)                 (None, 6)            102         dense_1[0][0]                    \n",
      "==================================================================================================\n",
      "Total params: 148,036\n",
      "Trainable params: 148,036\n",
      "Non-trainable params: 0\n",
      "__________________________________________________________________________________________________\n"
     ]
    }
   ],
   "source": [
    "orientation_network.summary()"
   ]
  },
  {
   "cell_type": "code",
   "execution_count": 23,
   "id": "7b96adcc",
   "metadata": {},
   "outputs": [
    {
     "ename": "ValueError",
     "evalue": "Failed to find data adapter that can handle input: <class 'NoneType'>, <class 'NoneType'>",
     "output_type": "error",
     "traceback": [
      "\u001b[0;31m---------------------------------------------------------------------------\u001b[0m",
      "\u001b[0;31mValueError\u001b[0m                                Traceback (most recent call last)",
      "\u001b[0;32m/tmp/ipykernel_5985/57652431.py\u001b[0m in \u001b[0;36m<module>\u001b[0;34m\u001b[0m\n\u001b[0;32m----> 1\u001b[0;31m history = orientation_network.fit(\n\u001b[0m\u001b[1;32m      2\u001b[0m     \u001b[0mbatch_size\u001b[0m\u001b[0;34m=\u001b[0m\u001b[0;36m64\u001b[0m\u001b[0;34m\u001b[0m\u001b[0;34m\u001b[0m\u001b[0m\n\u001b[1;32m      3\u001b[0m )\n",
      "\u001b[0;32m~/Desktop/reIDOL/.venv/lib/python3.8/site-packages/keras/engine/training.py\u001b[0m in \u001b[0;36mfit\u001b[0;34m(self, x, y, batch_size, epochs, verbose, callbacks, validation_split, validation_data, shuffle, class_weight, sample_weight, initial_epoch, steps_per_epoch, validation_steps, validation_batch_size, validation_freq, max_queue_size, workers, use_multiprocessing)\u001b[0m\n\u001b[1;32m   1132\u001b[0m          \u001b[0mtraining_utils\u001b[0m\u001b[0;34m.\u001b[0m\u001b[0mRespectCompiledTrainableState\u001b[0m\u001b[0;34m(\u001b[0m\u001b[0mself\u001b[0m\u001b[0;34m)\u001b[0m\u001b[0;34m:\u001b[0m\u001b[0;34m\u001b[0m\u001b[0;34m\u001b[0m\u001b[0m\n\u001b[1;32m   1133\u001b[0m       \u001b[0;31m# Creates a `tf.data.Dataset` and handles batch and epoch iteration.\u001b[0m\u001b[0;34m\u001b[0m\u001b[0;34m\u001b[0m\u001b[0;34m\u001b[0m\u001b[0m\n\u001b[0;32m-> 1134\u001b[0;31m       data_handler = data_adapter.get_data_handler(\n\u001b[0m\u001b[1;32m   1135\u001b[0m           \u001b[0mx\u001b[0m\u001b[0;34m=\u001b[0m\u001b[0mx\u001b[0m\u001b[0;34m,\u001b[0m\u001b[0;34m\u001b[0m\u001b[0;34m\u001b[0m\u001b[0m\n\u001b[1;32m   1136\u001b[0m           \u001b[0my\u001b[0m\u001b[0;34m=\u001b[0m\u001b[0my\u001b[0m\u001b[0;34m,\u001b[0m\u001b[0;34m\u001b[0m\u001b[0;34m\u001b[0m\u001b[0m\n",
      "\u001b[0;32m~/Desktop/reIDOL/.venv/lib/python3.8/site-packages/keras/engine/data_adapter.py\u001b[0m in \u001b[0;36mget_data_handler\u001b[0;34m(*args, **kwargs)\u001b[0m\n\u001b[1;32m   1381\u001b[0m   \u001b[0;32mif\u001b[0m \u001b[0mgetattr\u001b[0m\u001b[0;34m(\u001b[0m\u001b[0mkwargs\u001b[0m\u001b[0;34m[\u001b[0m\u001b[0;34m\"model\"\u001b[0m\u001b[0;34m]\u001b[0m\u001b[0;34m,\u001b[0m \u001b[0;34m\"_cluster_coordinator\"\u001b[0m\u001b[0;34m,\u001b[0m \u001b[0;32mNone\u001b[0m\u001b[0;34m)\u001b[0m\u001b[0;34m:\u001b[0m\u001b[0;34m\u001b[0m\u001b[0;34m\u001b[0m\u001b[0m\n\u001b[1;32m   1382\u001b[0m     \u001b[0;32mreturn\u001b[0m \u001b[0m_ClusterCoordinatorDataHandler\u001b[0m\u001b[0;34m(\u001b[0m\u001b[0;34m*\u001b[0m\u001b[0margs\u001b[0m\u001b[0;34m,\u001b[0m \u001b[0;34m**\u001b[0m\u001b[0mkwargs\u001b[0m\u001b[0;34m)\u001b[0m\u001b[0;34m\u001b[0m\u001b[0;34m\u001b[0m\u001b[0m\n\u001b[0;32m-> 1383\u001b[0;31m   \u001b[0;32mreturn\u001b[0m \u001b[0mDataHandler\u001b[0m\u001b[0;34m(\u001b[0m\u001b[0;34m*\u001b[0m\u001b[0margs\u001b[0m\u001b[0;34m,\u001b[0m \u001b[0;34m**\u001b[0m\u001b[0mkwargs\u001b[0m\u001b[0;34m)\u001b[0m\u001b[0;34m\u001b[0m\u001b[0;34m\u001b[0m\u001b[0m\n\u001b[0m\u001b[1;32m   1384\u001b[0m \u001b[0;34m\u001b[0m\u001b[0m\n\u001b[1;32m   1385\u001b[0m \u001b[0;34m\u001b[0m\u001b[0m\n",
      "\u001b[0;32m~/Desktop/reIDOL/.venv/lib/python3.8/site-packages/keras/engine/data_adapter.py\u001b[0m in \u001b[0;36m__init__\u001b[0;34m(self, x, y, sample_weight, batch_size, steps_per_epoch, initial_epoch, epochs, shuffle, class_weight, max_queue_size, workers, use_multiprocessing, model, steps_per_execution, distribute)\u001b[0m\n\u001b[1;32m   1135\u001b[0m       \u001b[0mself\u001b[0m\u001b[0;34m.\u001b[0m\u001b[0m_steps_per_execution_value\u001b[0m \u001b[0;34m=\u001b[0m \u001b[0msteps_per_execution\u001b[0m\u001b[0;34m.\u001b[0m\u001b[0mnumpy\u001b[0m\u001b[0;34m(\u001b[0m\u001b[0;34m)\u001b[0m\u001b[0;34m.\u001b[0m\u001b[0mitem\u001b[0m\u001b[0;34m(\u001b[0m\u001b[0;34m)\u001b[0m\u001b[0;34m\u001b[0m\u001b[0;34m\u001b[0m\u001b[0m\n\u001b[1;32m   1136\u001b[0m \u001b[0;34m\u001b[0m\u001b[0m\n\u001b[0;32m-> 1137\u001b[0;31m     \u001b[0madapter_cls\u001b[0m \u001b[0;34m=\u001b[0m \u001b[0mselect_data_adapter\u001b[0m\u001b[0;34m(\u001b[0m\u001b[0mx\u001b[0m\u001b[0;34m,\u001b[0m \u001b[0my\u001b[0m\u001b[0;34m)\u001b[0m\u001b[0;34m\u001b[0m\u001b[0;34m\u001b[0m\u001b[0m\n\u001b[0m\u001b[1;32m   1138\u001b[0m     self._adapter = adapter_cls(\n\u001b[1;32m   1139\u001b[0m         \u001b[0mx\u001b[0m\u001b[0;34m,\u001b[0m\u001b[0;34m\u001b[0m\u001b[0;34m\u001b[0m\u001b[0m\n",
      "\u001b[0;32m~/Desktop/reIDOL/.venv/lib/python3.8/site-packages/keras/engine/data_adapter.py\u001b[0m in \u001b[0;36mselect_data_adapter\u001b[0;34m(x, y)\u001b[0m\n\u001b[1;32m    974\u001b[0m   \u001b[0;32mif\u001b[0m \u001b[0;32mnot\u001b[0m \u001b[0madapter_cls\u001b[0m\u001b[0;34m:\u001b[0m\u001b[0;34m\u001b[0m\u001b[0;34m\u001b[0m\u001b[0m\n\u001b[1;32m    975\u001b[0m     \u001b[0;31m# TODO(scottzhu): This should be a less implementation-specific error.\u001b[0m\u001b[0;34m\u001b[0m\u001b[0;34m\u001b[0m\u001b[0;34m\u001b[0m\u001b[0m\n\u001b[0;32m--> 976\u001b[0;31m     raise ValueError(\n\u001b[0m\u001b[1;32m    977\u001b[0m         \u001b[0;34m\"Failed to find data adapter that can handle \"\u001b[0m\u001b[0;34m\u001b[0m\u001b[0;34m\u001b[0m\u001b[0m\n\u001b[1;32m    978\u001b[0m         \"input: {}, {}\".format(\n",
      "\u001b[0;31mValueError\u001b[0m: Failed to find data adapter that can handle input: <class 'NoneType'>, <class 'NoneType'>"
     ]
    }
   ],
   "source": [
    "history = orientation_network.fit(\n",
    "    batch_size=64\n",
    ")"
   ]
  },
  {
   "cell_type": "code",
   "execution_count": null,
   "id": "0c6e0b83",
   "metadata": {},
   "outputs": [],
   "source": []
  },
  {
   "cell_type": "code",
   "execution_count": null,
   "id": "cb630921",
   "metadata": {},
   "outputs": [],
   "source": [
    "pos_learning_rate = 0.001"
   ]
  }
 ],
 "metadata": {
  "interpreter": {
   "hash": "99d844438d0062753c8520ac1ef2f592a408c8301da9bb020e092c67b124feb6"
  },
  "kernelspec": {
   "display_name": "Python 3.8.10 64-bit ('.venv': venv)",
   "name": "python3"
  },
  "language_info": {
   "codemirror_mode": {
    "name": "ipython",
    "version": 3
   },
   "file_extension": ".py",
   "mimetype": "text/x-python",
   "name": "python",
   "nbconvert_exporter": "python",
   "pygments_lexer": "ipython3",
   "version": "3.8.10"
  }
 },
 "nbformat": 4,
 "nbformat_minor": 5
}
